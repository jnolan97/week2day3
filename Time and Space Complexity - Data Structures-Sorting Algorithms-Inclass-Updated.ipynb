{
 "cells": [
  {
   "cell_type": "markdown",
   "metadata": {},
   "source": [
    "# Time/Space Complexity - Sorting Algorithms and Data Structures\n",
    "\n",
    "### Topics to discuss today:\n",
    "\n",
    "<ul>\n",
    "    <li>Time and Space Complexity - What is it/How do we measure it</li>\n",
    "    <li>Asymptotic Analysis</li>\n",
    "    <li><strong>Data Structures</strong></li>\n",
    "    <li>Some of the popular sorting algorithms</li>\n",
    "</ul>\n",
    "\n",
    "### Data Structures to discuss:\n",
    "- Arrays\n",
    "- Linked Lists\n",
    "    - Singly Linked Lists\n",
    "    - Doubly Linked Lists\n",
    "    - Traversing A Linked List\n",
    "    - Finding a node in a linked list\n",
    "    - Adding to a linked list\n",
    "- Binary Search Trees\n",
    "    - Construction\n",
    "    - Traversal\n",
    "- Stacks\n",
    "- Queues\n",
    "\n",
    "- Sorting Algorithms\n",
    "    - Bubble Sort\n",
    "    - Insertion Sort\n"
   ]
  },
  {
   "cell_type": "markdown",
   "metadata": {},
   "source": [
    "## Time and Space Complexity\n",
    "\n",
    "#### What is it?\n",
    "\n",
    "Time and space complexity is the measure of how much time a given action(function) will take to solve a problem. In the same fashion, we determine how much a given data structure will need in terms of memory allocation. A problem can have multiple solutions and finding the optimal solution for the problem needs to be analyzed in time and space.\n",
    "\n",
    "#### How do we measure Time and Space Complexity?\n",
    "\n",
    "In order to measure time and space complexity we use Asymptotic analysis. The reason for this is because we need a way to measure different algorithms (functions) based on the size of their inputs in a mathmatical way. For example, we could have a function that is computed as f(n) and another that is g(n^2). All things around the function staying constant, the only thing that changes is the size of the input. Below is the chart that shows the different Asymptotic analysis formats. "
   ]
  },
  {
   "cell_type": "markdown",
   "metadata": {},
   "source": [
    "<table style=\"text-align:center;\" class=\"table table-bordered\">\n",
    "<tbody><tr>\n",
    "<td>constant</td>\n",
    "<td>−</td>\n",
    "<td>Ο(1)</td>\n",
    "</tr>\n",
    "<tr>\n",
    "<td>logarithmic</td>\n",
    "<td>−</td>\n",
    "<td>Ο(log n)</td>\n",
    "</tr>\n",
    "<tr>\n",
    "<td>linear</td>\n",
    "<td>−</td>\n",
    "<td>Ο(n)</td>\n",
    "</tr>\n",
    "<tr>\n",
    "<td>n log n</td>\n",
    "<td>−</td>\n",
    "<td>Ο(n log n)</td>\n",
    "</tr>\n",
    "<tr>\n",
    "<td>quadratic</td>\n",
    "<td>−</td>\n",
    "<td>Ο(n<sup>2</sup>)</td>\n",
    "</tr>\n",
    "<tr>\n",
    "<td>cubic</td>\n",
    "<td>−</td>\n",
    "<td>Ο(n<sup>3</sup>)</td>\n",
    "</tr>\n",
    "<tr>\n",
    "<td>polynomial</td>\n",
    "<td>−</td>\n",
    "<td>n<sup>Ο(1)</sup></td>\n",
    "</tr>\n",
    "<tr>\n",
    "<td>exponential</td>\n",
    "<td>−</td>\n",
    "<td>2<sup>Ο(n)</sup></td>\n",
    "</tr>\n",
    "</tbody></table>"
   ]
  },
  {
   "cell_type": "markdown",
   "metadata": {},
   "source": [
    "## Arrays"
   ]
  },
  {
   "cell_type": "markdown",
   "metadata": {},
   "source": [
    "In python we benefit from the dynamic array which means the block of memory will expand as needed for the given input to the array. In traditional arrays (depending on the type of operating system) we will usually store our inputs in 4 or 8 consecutive blocks of memory. Below is a diagram of how that looks under the hood:\n",
    "\n",
    "<img src=\"http://www.mathcs.emory.edu/~cheung/Courses/170/Syllabus/09/FIGS/array02x.gif\" style=\"height:250px; width:350px;\">"
   ]
  },
  {
   "cell_type": "markdown",
   "metadata": {},
   "source": [
    "## Which in python looks like this:"
   ]
  },
  {
   "cell_type": "code",
   "execution_count": 1,
   "metadata": {},
   "outputs": [],
   "source": [
    "array = [23,4,6,15,5,7]"
   ]
  },
  {
   "cell_type": "markdown",
   "metadata": {},
   "source": [
    "### Let's take a look at some of the time and space analysis of arrays"
   ]
  },
  {
   "cell_type": "code",
   "execution_count": 3,
   "metadata": {},
   "outputs": [
    {
     "name": "stdout",
     "output_type": "stream",
     "text": [
      "23\n",
      "4\n",
      "6\n",
      "15\n",
      "5\n",
      "7\n"
     ]
    },
    {
     "data": {
      "text/plain": [
       "[23, 4, 3, 15, 5, 7]"
      ]
     },
     "execution_count": 3,
     "metadata": {},
     "output_type": "execute_result"
    }
   ],
   "source": [
    "# Indexing an array\n",
    "indexing = array[1] #Constant time and space - O(1)\n",
    "\n",
    "#Searching: Linear time O(n) Constant space O(1)\n",
    "for i in array:\n",
    "    print(i)\n",
    "\n",
    "# Copying an array: Linear Time, Linear Space\n",
    "copying = array[:]\n",
    "\n",
    "#Setting an index in an array: Constant time, constant space\n",
    "array[2] = 3\n",
    "array"
   ]
  },
  {
   "cell_type": "markdown",
   "metadata": {},
   "source": [
    "## Stacks and Queues (Review)\n",
    "\n",
    "** Stacks ** as the name suggests is a data structure that allows for data to follow the Last In First Out priciple(LIFO). Think of a stack of pancakes for example. To get the first pancake you would  start with the top and go down.\n",
    "\n",
    "##### Searching through a stack will be Linear Time O(n) - Constant Space O(1)\n",
    "##### Selecting the last item will be done in Constant Time O(1) - Constant Space O(1)\n",
    "##### Adding to the stack should take Constant Time O(1) - Constant Space O(1)\n",
    "\n",
    "** Queues ** are similar but in this case follow the First In First Out principle(FIFO). Think of this as a line in a black friday sale. The first person camped out for the big screen tv is the first to get it.\n",
    "\n",
    "##### Searching through a queue will be Linear Time O(n) - Constant Space O(1)\n",
    "##### Selecting the first item will be done in Constant Time O(1) - Constant Space O(1)\n",
    "##### Adding to the queue should take Constant Time O(1) - Constant Space O(1)"
   ]
  },
  {
   "cell_type": "code",
   "execution_count": 5,
   "metadata": {},
   "outputs": [
    {
     "name": "stdout",
     "output_type": "stream",
     "text": [
      "30\n",
      "Bob\n"
     ]
    }
   ],
   "source": [
    "stack = []\n",
    "stack.append(10)\n",
    "stack.append(20)\n",
    "stack.append(30)\n",
    "last_item = stack.pop()\n",
    "print(last_item)\n",
    "\n",
    "queue = []\n",
    "queue.append(\"Bob\")\n",
    "queue.append(\"Mary\")\n",
    "queue.append(\"Misty\")\n",
    "first_item = queue.pop(0)\n",
    "print(first_item)"
   ]
  },
  {
   "cell_type": "markdown",
   "metadata": {},
   "source": [
    "## Linked List (Data Structure)\n",
    "\n",
    "A linked list is created by using the node class. We create a Node object and create another class to use this node object. We pass the appropriate values thorugh the node object to point the to the next data elements.\n",
    "\n",
    "There are some advantages and disadvantages with this data structure. **Advantages** Linked Lists can save memory because they can be flexibile with memory management which saves memory. **Disadvantages** Finding or adding to the list requires traversing the entire list."
   ]
  },
  {
   "cell_type": "code",
   "execution_count": 6,
   "metadata": {},
   "outputs": [
    {
     "name": "stdout",
     "output_type": "stream",
     "text": [
      "Mon\n",
      "Tues\n",
      "Wed\n",
      "None\n"
     ]
    }
   ],
   "source": [
    "class LinkedListNode():\n",
    "    def __init__(self,value):\n",
    "        self.value = value\n",
    "        self.next = None\n",
    "        \n",
    "    def traverseList(self):\n",
    "        node = self #Start of the head node\n",
    "        while node != None:\n",
    "            print(node.value)\n",
    "            node = node.next\n",
    "node1 = LinkedListNode(\"Mon\")\n",
    "node2 = LinkedListNode(\"Tues\")\n",
    "node3 = LinkedListNode(\"Wed\")\n",
    "node1.next = node2\n",
    "node2.next = node3\n",
    "print(node1.traverseList())\n"
   ]
  },
  {
   "cell_type": "code",
   "execution_count": 11,
   "metadata": {},
   "outputs": [
    {
     "name": "stdout",
     "output_type": "stream",
     "text": [
      "Joel\n",
      "Paul\n",
      "Derek\n",
      "Joe\n"
     ]
    }
   ],
   "source": [
    "class Node():\n",
    "    def __init__(self,value):\n",
    "        self.value = value\n",
    "        self.next = None\n",
    "        \n",
    "class LinkedList():\n",
    "    def __init__(self):\n",
    "        self.head = None\n",
    "        \n",
    "    #adding info to linkedlist\n",
    "    def pushOn(self,new_value):\n",
    "        new_node = Node(new_value)\n",
    "        new_node.next = self.head\n",
    "        self.head = new_node\n",
    "        \n",
    "    #this method inserts a new node after a previous node\n",
    "    def insertAfter(self,prev_node,new_value):\n",
    "        if prev_node is None:\n",
    "            print(\"The given previous node must not be empty\")\n",
    "            return \n",
    "        new_node = Node(new_value)\n",
    "        new_node.next = prev_node.next\n",
    "        prev_node.next = new_node\n",
    "    \n",
    "    def append(self,new_value):\n",
    "        new_node = Node(new_value)\n",
    "        if self.head is None:\n",
    "            self.head = new_node\n",
    "            return\n",
    "        last = self.head\n",
    "        while (last.next):\n",
    "            last = last.next\n",
    "        last.next = new_node\n",
    "    \n",
    "    def traverse(self):\n",
    "        temp = self.head\n",
    "        while temp:\n",
    "            print(temp.value)\n",
    "            temp = temp.next\n",
    "\n",
    "name_links = LinkedList()\n",
    "name_links.pushOn(\"Joel\")\n",
    "name_links.append(\"Derek\")\n",
    "name_links.insertAfter(name_links.head.next,\"Joe\")\n",
    "name_links.insertAfter(name_links.head,\"Paul\")\n",
    "name_links.traverse()\n"
   ]
  },
  {
   "cell_type": "markdown",
   "metadata": {},
   "source": [
    "# Doubly Linked Lists\n",
    "\n",
    "A Doubly Linked List allows for traversal from the front to the back and back to the front. \n",
    "\n",
    "The run time for this traversal from front to back would be O(n) - Linear Time\n",
    "The run time for traversal from the back to the front would ALSO be O(n) - Linear Time\n",
    "\n",
    "IF we needed to do front to back AND back to front at the same time that runtime would be O(n^2) - Exponential Time\n",
    "\n",
    "And Space complexity would in the average and worst case be O(1) - Constant time. Because we are dealing with the same block(s) of memory."
   ]
  },
  {
   "cell_type": "code",
   "execution_count": 17,
   "metadata": {},
   "outputs": [
    {
     "name": "stdout",
     "output_type": "stream",
     "text": [
      "Joel\n",
      "derek\n",
      "Paul\n",
      "True\n"
     ]
    }
   ],
   "source": [
    "class Node():\n",
    "    def __init__(self,value):\n",
    "        self.value = value\n",
    "        self.prev = None\n",
    "        self.next = None\n",
    "        \n",
    "class DoublyLinkedList():\n",
    "    def __init__(self):\n",
    "        self.head = None\n",
    "        self.tail = None\n",
    "        \n",
    "    def setHead(self,node):\n",
    "        \"\"\"\n",
    "        setHead accepts Node obj and will set the head\n",
    "        and the tail if the head is empty.\n",
    "        Otherwise set the current node's value to the front of\n",
    "        the head node\n",
    "        \"\"\"\n",
    "        if self.head is None:\n",
    "            self.head = node\n",
    "            self.tail = node\n",
    "            return\n",
    "        self.insertBefore(self.head,node)\n",
    "    \n",
    "    def setTail(self,node):\n",
    "        \"\"\"\n",
    "        setTail accepts node obj and will set the tail by calling\n",
    "        setHead() method. If the tail is empty or add to the back of the list\n",
    "        if the tail is NOT empty\n",
    "        \"\"\"\n",
    "        if self.tail is None:\n",
    "            self.setHead(node)\n",
    "            return\n",
    "        self.insertAfter(self.tail,node)\n",
    "    def insertBefore(self,node,nodeToInsert):\n",
    "        \"\"\"\n",
    "        insertBefore accepts a new node obj and the previous node obj.\n",
    "        It will then check if the new node is present in the links both at the front\n",
    "        and the back. If that value is not present then we will add the new value\n",
    "        to the front of the previous link in the list.\n",
    "        \"\"\"\n",
    "        if nodeToInsert == self.head and nodeToInsert == self.tail:\n",
    "            return\n",
    "        self.remove(nodeToInsert)\n",
    "        nodeToInsert.prev = node.prev\n",
    "        nodeToInsert.next = node\n",
    "        \n",
    "    def insertAfter(self,node,nodeToInsert):\n",
    "        \"\"\"\n",
    "        insertAfter accpets a new node obj and a previous node obj.\n",
    "        It will check if the new node is present and tail.\n",
    "        If the value is NOT present then we will add the new value to the\n",
    "        back of the previous node in the list\n",
    "        \"\"\"\n",
    "        if nodeToInsert == self.head and nodeToInsert == self.tail:\n",
    "            return\n",
    "        self.remove(nodeToInsert)\n",
    "        nodeToInsert.prev = node\n",
    "        nodeToInsert.next = node.next\n",
    "        if node.next is None:\n",
    "            self.tail = nodeToInsert\n",
    "        else:\n",
    "            node.next.prev = nodeToInsert\n",
    "        node.next = nodeToInsert\n",
    "        \n",
    "    def insertAtPosition(self,position,nodeToInsert):\n",
    "        if position == 1:\n",
    "            self.setHead(nodeToInsert)\n",
    "            return\n",
    "        node = self.head\n",
    "        currentPosition = 1\n",
    "        while node is not Node and currentPosition != position:\n",
    "            node = node.next\n",
    "            currentPosition += 1\n",
    "        if node is not None:\n",
    "            self.insertBefore(node,nodeToInsert)\n",
    "        else:\n",
    "            self.setTail(nodeToInsert)\n",
    "    def removeNodesWithValue(self,value):\n",
    "        node = self.head\n",
    "        while node is not None:\n",
    "            nodeToRemove = node\n",
    "            node = node.next\n",
    "            if nodeToRemove.value == value:\n",
    "                self.remove(nodeToRemove)\n",
    "    \n",
    "    def remove(self,node):\n",
    "        if node == self.head:\n",
    "            self.head == self.head.next\n",
    "        if node == self.tail:\n",
    "            self.tail = self.tail.prev\n",
    "        self.removeNodeBindings(node)\n",
    "    \n",
    "    def removeNodeBindings(self,node):\n",
    "        \"\"\"\n",
    "        removeNodeBindings accepts a node obj.\n",
    "        The method will check the previous node's next pointer \n",
    "        and make sure it is EMPTY. If not we will update the\n",
    "        previous node's next pointer to current pointer also\n",
    "        check if the current pointer is not empty.\n",
    "        If the current pointer HAS a value then connect both \n",
    "        the previous and incoming node values.\n",
    "        \"\"\"\n",
    "        if node.prev is not None:\n",
    "            node.prev.next = node.next\n",
    "        if node.next is not None:\n",
    "            node.next.prev = node.prev\n",
    "        node.prev = None\n",
    "        node.next = None\n",
    "        \n",
    "    def containsNodeWithValue(self,value):\n",
    "        \"\"\"\n",
    "        containsNodeWithValue accepts an integer/string as a value\n",
    "        The method will continue to loop if the value is NOT been found\n",
    "        AND the node is not empty.\n",
    "        We then return the value once it has been found\n",
    "        \"\"\"\n",
    "        node = self.head\n",
    "        while node is not None and node.value != value:\n",
    "            node = node.next\n",
    "        return node is not None\n",
    "    \n",
    "    def traverse(self):\n",
    "        \"\"\"\n",
    "        Traverse through the list starting at the head node.\n",
    "        \"\"\"\n",
    "        temp = self.head\n",
    "        while temp:\n",
    "            print(temp.value)\n",
    "            temp = temp.next\n",
    "name_node = Node(\"Joel\")\n",
    "name_node2 = Node(\"derek\")\n",
    "\n",
    "dl_name_list = DoublyLinkedList()\n",
    "\n",
    "dl_name_list.setHead(name_node)\n",
    "dl_name_list.insertAfter(name_node, name_node2)\n",
    "dl_name_list.insertAfter(name_node2,Node(\"Paul\"))\n",
    "dl_name_list.traverse()\n",
    "\n",
    "print(dl_name_list.containsNodeWithValue(\"Paul\"))"
   ]
  },
  {
   "cell_type": "markdown",
   "metadata": {},
   "source": [
    "## Binary Search Trees"
   ]
  },
  {
   "cell_type": "code",
   "execution_count": null,
   "metadata": {},
   "outputs": [],
   "source": []
  },
  {
   "cell_type": "markdown",
   "metadata": {},
   "source": [
    "## Sorting Algorithms\n",
    "\n",
    "#### Bubble Sort\n",
    "\n",
    "Worst Case: O(n^2) Time - O(1) Space"
   ]
  },
  {
   "cell_type": "code",
   "execution_count": 19,
   "metadata": {},
   "outputs": [
    {
     "data": {
      "text/plain": [
       "[5, 6, 7, 10, 20, 20, 50]"
      ]
     },
     "execution_count": 19,
     "metadata": {},
     "output_type": "execute_result"
    }
   ],
   "source": [
    "def bubbleSort(array):\n",
    "    isSorted = False\n",
    "    while not isSorted:\n",
    "        isSorted = True\n",
    "        for num in range(len(array)-1):\n",
    "            if array[num] > array[num+1]:\n",
    "                swap(num,num+1,array)\n",
    "                isSorted = False\n",
    "    return array\n",
    "def swap(i,j,array):\n",
    "    array[i],array[j] = array[j],array[i]\n",
    "\n",
    "bubbleSort([20,20,50,7,6,5,10])"
   ]
  },
  {
   "cell_type": "markdown",
   "metadata": {},
   "source": [
    "##### Insertion Sort\n",
    "\n",
    "Worst Case: O(n^2) time - O(1)space"
   ]
  },
  {
   "cell_type": "code",
   "execution_count": 22,
   "metadata": {},
   "outputs": [
    {
     "data": {
      "text/plain": [
       "[1, 2, 10, 30, 50]"
      ]
     },
     "execution_count": 22,
     "metadata": {},
     "output_type": "execute_result"
    }
   ],
   "source": [
    "def swap(i,j,array):\n",
    "    array[i],array[j] = array[j],array[i]\n",
    "def insertionSort(array):\n",
    "    for i in range (1,len(array)):\n",
    "        j = i\n",
    "        while j > 0 and array[j] < array[j-1]:\n",
    "            swap(j,j-1,array)\n",
    "            j-=1\n",
    "    return array\n",
    "insertionSort([10,50,30,2,1])"
   ]
  },
  {
   "cell_type": "markdown",
   "metadata": {},
   "source": [
    "# Homework"
   ]
  },
  {
   "cell_type": "markdown",
   "metadata": {},
   "source": [
    "#### Problem 1: Linked Lists\n",
    "\n",
    "Using the above examples as a guide, create your own interpretation of the a Linked List class. You can not use the code above exactly, but again it can be used as a guide. This problem requires you to think about how a linked list works and create one using your own logic.\n",
    "\n",
    "*Remember* A Linked List is a list of Nodes that point to the next node in the chain. The first Node starts out as Empty(None) and each node after points to the next.\n",
    "\n",
    "Your Linked List should have a traverse method and have the ability to add a new node"
   ]
  },
  {
   "cell_type": "code",
   "execution_count": 53,
   "metadata": {},
   "outputs": [
    {
     "name": "stdout",
     "output_type": "stream",
     "text": [
      "Jack\n",
      "Josh\n",
      "Jeremy\n"
     ]
    }
   ],
   "source": [
    "class Node():\n",
    "    # Initializes blank node\n",
    "    def __init__(self,value):\n",
    "        self.value = value\n",
    "        self.next = None\n",
    "        \n",
    "class LinkedList():\n",
    "    def __init__(self):\n",
    "        self.head = None #initialize head of node to none\n",
    "    \"\"\"\n",
    "    Takes a new value and adds that to the end of the list.\n",
    "    If the head of the node is None, add right there, if not\n",
    "    traverse the list while the next pointer is not None until\n",
    "    you reach the end\n",
    "    \"\"\"\n",
    "    def addNode(self,new_value):\n",
    "        new_node = Node(new_value)\n",
    "        if self.head is None:\n",
    "            self.head = new_node\n",
    "            return\n",
    "        last_node = self.head\n",
    "        while last_node.next:\n",
    "            last_node = last_node.next\n",
    "        last_node.next = new_node\n",
    "    \"\"\"\n",
    "    Goes through the list while the head is not None.\n",
    "    Prints and then points to the next node\n",
    "    \"\"\"\n",
    "    def traverseLink(self):\n",
    "        while self.head:\n",
    "            print(self.head.value)\n",
    "            self.head = self.head.next\n",
    "\n",
    "names = LinkedList()\n",
    "names.addNode(\"Jack\")\n",
    "names.addNode(\"Josh\")\n",
    "names.addNode(\"Jeremy\")\n",
    "names.traverseLink()\n",
    "            "
   ]
  },
  {
   "cell_type": "markdown",
   "metadata": {},
   "source": [
    "#### Problem 2: Binary Search Tree\n",
    "\n",
    "Using the above examples as a guide, create your own interpretation of the a Binary Search Tree class. You can not use the code above exactly, but again it can be used as a guide. This problem requires you to think about how a Binary Search Tree works and create one using your own logic.\n",
    "\n",
    "*Remember* Binary Search Trees start with a head node and each node to the left of that will be smaller, each node to the right of it will be greater. The far left node should be the lowest number(if one exists) that is available. The far right node (if one exists) should be the greatest number"
   ]
  },
  {
   "cell_type": "code",
   "execution_count": null,
   "metadata": {},
   "outputs": [],
   "source": []
  },
  {
   "cell_type": "markdown",
   "metadata": {},
   "source": [
    "#### Problem 3: Sorting a list - With Insertion Sort\n",
    "\n",
    "Using the above examples as a guide, create your own interpretation of sorting a list using insertion sort. You can not use the code above exactly, but again it can be used as a guide. This problem requires you to think about how sorting lists works and create a solution using your own logic.\n",
    "\n",
    "As you work through the solution, comment the steps you are taking and why."
   ]
  },
  {
   "cell_type": "code",
   "execution_count": 51,
   "metadata": {},
   "outputs": [
    {
     "data": {
      "text/plain": [
       "[1, 3, 5, 6, 9]"
      ]
     },
     "execution_count": 51,
     "metadata": {},
     "output_type": "execute_result"
    }
   ],
   "source": [
    "def insertion(array):\n",
    "    #iterate over the list starting at index 1\n",
    "    for i in range(1,len(array)):\n",
    "        #iterate over list starting at 0\n",
    "        for j in range(0,len(array)):\n",
    "            #compare starting at index 1 and 0\n",
    "            if array[j] > array[i]:\n",
    "                swap(i,j,array)\n",
    "            else:\n",
    "                # if in order move on\n",
    "                continue\n",
    "    return array\n",
    "#swap values if out of order\n",
    "def swap(i,j,array):\n",
    "    array[i],array[j] = array[j],array[i]\n",
    "insertion([1,5,9,3,6])\n",
    "\"\"\"\n",
    "I think the best case runtime is O(n) because it will\n",
    "only traverse the list once if it is already in order.\n",
    "\"\"\""
   ]
  },
  {
   "cell_type": "code",
   "execution_count": null,
   "metadata": {},
   "outputs": [],
   "source": []
  }
 ],
 "metadata": {
  "kernelspec": {
   "display_name": "Python 3",
   "language": "python",
   "name": "python3"
  },
  "language_info": {
   "codemirror_mode": {
    "name": "ipython",
    "version": 3
   },
   "file_extension": ".py",
   "mimetype": "text/x-python",
   "name": "python",
   "nbconvert_exporter": "python",
   "pygments_lexer": "ipython3",
   "version": "3.8.2"
  }
 },
 "nbformat": 4,
 "nbformat_minor": 2
}
